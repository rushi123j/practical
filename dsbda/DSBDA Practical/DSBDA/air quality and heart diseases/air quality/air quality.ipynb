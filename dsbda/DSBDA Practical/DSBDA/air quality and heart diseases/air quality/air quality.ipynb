{
 "cells": [
  {
   "cell_type": "code",
   "execution_count": null,
   "id": "f7820e4a",
   "metadata": {},
   "outputs": [
    {
     "ename": "",
     "evalue": "",
     "output_type": "error",
     "traceback": [
      "\u001b[1;31mRunning cells with 'Python 3.12.0' requires the ipykernel package.\n",
      "\u001b[1;31m<a href='command:jupyter.createPythonEnvAndSelectController'>Create a Python Environment</a> with the required packages.\n",
      "\u001b[1;31mOr install 'ipykernel' using the command: 'd:/software/Python/python.exe -m pip install ipykernel -U --user --force-reinstall'"
     ]
    }
   ],
   "source": [
    "import pandas as pd\n",
    "import numpy as np\n",
    "import seaborn as sns"
   ]
  },
  {
   "cell_type": "code",
   "execution_count": null,
   "id": "dd9f4ce4",
   "metadata": {},
   "outputs": [],
   "source": [
    "df = pd.read_csv(\"airquality - airquality.csv\")\n",
    "df\n",
    "\n",
    "# to prtint first 10 rows\n",
    "# df.head(10)\n"
   ]
  },
  {
   "cell_type": "code",
   "execution_count": null,
   "id": "9d3d1b98",
   "metadata": {},
   "outputs": [],
   "source": [
    "# to find mean of each attribute\n",
    "# df.mean()"
   ]
  },
  {
   "cell_type": "code",
   "execution_count": null,
   "id": "63091ab1",
   "metadata": {},
   "outputs": [],
   "source": [
    "#data cleaning\n",
    "df.isnull()"
   ]
  },
  {
   "cell_type": "code",
   "execution_count": null,
   "id": "30d6c76a",
   "metadata": {},
   "outputs": [],
   "source": [
    "df.isnull().sum()"
   ]
  },
  {
   "cell_type": "code",
   "execution_count": null,
   "id": "3029ed3b",
   "metadata": {},
   "outputs": [],
   "source": [
    "# drop rows with missing values\n",
    "df.dropna()\n",
    "df"
   ]
  },
  {
   "cell_type": "code",
   "execution_count": null,
   "id": "3465991f",
   "metadata": {},
   "outputs": [],
   "source": [
    "df.shape"
   ]
  },
  {
   "cell_type": "code",
   "execution_count": null,
   "id": "8d5f5e79",
   "metadata": {},
   "outputs": [],
   "source": [
    "# Remove duplicate rows\n",
    "df.drop_duplicates()"
   ]
  },
  {
   "cell_type": "code",
   "execution_count": null,
   "id": "679f5621",
   "metadata": {},
   "outputs": [],
   "source": [
    "# replace NaN value with mean value\n",
    "A = df['Ozone'].replace(np.NaN,df['Ozone'].mean())\n"
   ]
  },
  {
   "cell_type": "code",
   "execution_count": null,
   "id": "f9fa1379",
   "metadata": {},
   "outputs": [],
   "source": [
    "A.head(10)"
   ]
  },
  {
   "cell_type": "code",
   "execution_count": null,
   "id": "f76834dc",
   "metadata": {},
   "outputs": [],
   "source": [
    "#data integration"
   ]
  },
  {
   "cell_type": "code",
   "execution_count": null,
   "id": "7def9d81",
   "metadata": {},
   "outputs": [],
   "source": [
    "Df1 = df[['Ozone','Solar.R','Wind',]].loc[0:51]\n",
    "Df1"
   ]
  },
  {
   "cell_type": "code",
   "execution_count": null,
   "id": "3166b4a8",
   "metadata": {},
   "outputs": [],
   "source": [
    "Df2 = df[['Ozone','Solar.R','Wind',]].loc[51:100]\n",
    "Df2"
   ]
  },
  {
   "cell_type": "code",
   "execution_count": null,
   "id": "59d09cc5",
   "metadata": {},
   "outputs": [],
   "source": [
    "merging = pd.concat([Df1,Df2])\n",
    "merging"
   ]
  },
  {
   "cell_type": "code",
   "execution_count": null,
   "id": "495b5559",
   "metadata": {},
   "outputs": [],
   "source": [
    "df"
   ]
  },
  {
   "cell_type": "code",
   "execution_count": null,
   "id": "a36f3970",
   "metadata": {},
   "outputs": [],
   "source": [
    "# data transpormation\n",
    "\n",
    "df_encoded = pd.get_dummies(df, columns=['Day'])\n",
    "df_encoded\n"
   ]
  },
  {
   "cell_type": "code",
   "execution_count": null,
   "id": "20aeabba",
   "metadata": {},
   "outputs": [],
   "source": [
    "from sklearn.preprocessing import MinMaxScaler"
   ]
  },
  {
   "cell_type": "code",
   "execution_count": null,
   "id": "0a1dbf35",
   "metadata": {},
   "outputs": [],
   "source": [
    "scaler = MinMaxScaler()\n",
    "b  = scaler.fit_transform(df)"
   ]
  },
  {
   "cell_type": "code",
   "execution_count": null,
   "id": "79da2cc7",
   "metadata": {},
   "outputs": [],
   "source": [
    "pd.DataFrame(b).describe()"
   ]
  },
  {
   "cell_type": "code",
   "execution_count": null,
   "id": "ae5af666",
   "metadata": {},
   "outputs": [],
   "source": [
    "# error correction for gender\n",
    "\n",
    "# Check for erroneous values\n",
    "erroneous_values = df[~df['Month'].isin([0, 12])]\n",
    "\n",
    "most_frequent_gender = df['Month'].mode()[0]\n",
    "df.loc[erroneous_values.index, 'Month'] = most_frequent_gender\n",
    "most_frequent_gender"
   ]
  },
  {
   "cell_type": "code",
   "execution_count": null,
   "id": "d789d06a",
   "metadata": {},
   "outputs": [],
   "source": [
    "#model building"
   ]
  },
  {
   "cell_type": "code",
   "execution_count": null,
   "id": "e3cca85d",
   "metadata": {},
   "outputs": [],
   "source": [
    "from sklearn.linear_model import LinearRegression\n",
    "from sklearn.impute import SimpleImputer \n",
    "\n",
    "imp = SimpleImputer(missing_values=np.nan,strategy='mean')\n",
    "\n",
    "A = imp.fit_transform(df)\n",
    "A = pd.DataFrame(A, columns=df.columns)\n",
    "A"
   ]
  },
  {
   "cell_type": "code",
   "execution_count": null,
   "id": "beb70e01",
   "metadata": {},
   "outputs": [],
   "source": [
    "X=A['Ozone'].values\n",
    "X=X.reshape(-1,1)\n",
    "\n",
    "Y = A['Temp']\n"
   ]
  },
  {
   "cell_type": "code",
   "execution_count": null,
   "id": "50eb1a95",
   "metadata": {},
   "outputs": [],
   "source": [
    "model = LinearRegression()\n",
    "model.fit(X,Y)\n"
   ]
  },
  {
   "cell_type": "code",
   "execution_count": null,
   "id": "51ee1394",
   "metadata": {},
   "outputs": [],
   "source": [
    "model.score(X,Y)*100\n"
   ]
  },
  {
   "cell_type": "code",
   "execution_count": null,
   "id": "9f0bcea1",
   "metadata": {},
   "outputs": [],
   "source": [
    "model.predict([[128]])\n"
   ]
  },
  {
   "cell_type": "code",
   "execution_count": null,
   "id": "381a2c1f",
   "metadata": {},
   "outputs": [],
   "source": [
    "import matplotlib.pyplot as plt\n"
   ]
  },
  {
   "cell_type": "code",
   "execution_count": null,
   "id": "d616bfc5",
   "metadata": {},
   "outputs": [],
   "source": [
    "plt.scatter(X,Y)\n"
   ]
  },
  {
   "cell_type": "code",
   "execution_count": null,
   "id": "21bcce29",
   "metadata": {},
   "outputs": [],
   "source": []
  },
  {
   "cell_type": "code",
   "execution_count": null,
   "id": "d5a1aecf",
   "metadata": {},
   "outputs": [],
   "source": []
  },
  {
   "cell_type": "code",
   "execution_count": null,
   "id": "adc6d068",
   "metadata": {},
   "outputs": [],
   "source": []
  },
  {
   "cell_type": "code",
   "execution_count": null,
   "id": "bde1be91",
   "metadata": {},
   "outputs": [],
   "source": []
  }
 ],
 "metadata": {
  "kernelspec": {
   "display_name": "Python 3",
   "language": "python",
   "name": "python3"
  },
  "language_info": {
   "codemirror_mode": {
    "name": "ipython",
    "version": 3
   },
   "file_extension": ".py",
   "mimetype": "text/x-python",
   "name": "python",
   "nbconvert_exporter": "python",
   "pygments_lexer": "ipython3",
   "version": "3.12.0"
  }
 },
 "nbformat": 4,
 "nbformat_minor": 5
}
